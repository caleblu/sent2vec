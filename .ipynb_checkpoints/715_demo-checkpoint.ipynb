{
 "cells": [
  {
   "cell_type": "code",
   "execution_count": 1,
   "metadata": {},
   "outputs": [
    {
     "name": "stdout",
     "output_type": "stream",
     "text": [
      "/longterm/kaijil/data/10715/models/\n"
     ]
    }
   ],
   "source": [
    "import sent2vec\n",
    "import glob\n",
    "from multiprocessing import Pool\n",
    "import sys\n",
    "import os\n",
    "import re\n",
    "import codecs\n",
    "import nltk.data\n",
    "from nltk.tokenize import TweetTokenizer\n",
    "from scipy.stats import pearsonr, spearmanr\n",
    "data_path  = '/longterm/kaijil/data/10715/'\n",
    "model_path = data_path + 'models/'\n",
    "print(model_path)"
   ]
  },
  {
   "cell_type": "code",
   "execution_count": 2,
   "metadata": {
    "collapsed": true
   },
   "outputs": [],
   "source": [
    "model_wi_1 = sent2vec.Sent2vecModel()\n",
    "model_wi_1.load_model(model_path + 'wiki_unigrams.bin')\n",
    "model_wi_2 = sent2vec.Sent2vecModel()\n",
    "model_wi_2.load_model(model_path + 'wiki_bigrams.bin')\n",
    "model_tw_1 = sent2vec.Sent2vecModel()\n",
    "model_tw_1.load_model(model_path + 'twitter_unigrams.bin')"
   ]
  },
  {
   "cell_type": "code",
   "execution_count": 7,
   "metadata": {
    "collapsed": true
   },
   "outputs": [],
   "source": [
    "model_tw_2 = sent2vec.Sent2vecModel()\n",
    "model_tw_2.load_model(model_path + 'twitter_bigrams.bin')\n",
    "model_tb_1 = sent2vec.Sent2vecModel()\n",
    "model_tb_1.load_model(model_path + 'torontobooks_unigrams.bin')\n",
    "model_tb_2 = sent2vec.Sent2vecModel()\n",
    "model_tb_2.load_model(model_path + 'torontobooks_bigrams.bin')\n",
    "model_gb_2 = sent2vec.Sent2vecModel()\n",
    "model_gb_2.load_model(model_path + 'gutenbergbooks_bigrams.bin')"
   ]
  },
  {
   "cell_type": "code",
   "execution_count": 9,
   "metadata": {},
   "outputs": [],
   "source": [
    "t1 = \"Ted Cruz should be disqualified from his fraudulent win in Iowa. Weak RNC and Republican leadership probably won't let this happen! Sad.\"\n",
    "t2 = \"I wonder if President Obama would have attended the funeral of Justice Scalia if it were held in a Mosque? Very sad that he did not go!\"\n",
    "def get_similarity(t1,t2,model):\n",
    "    tknzr = TweetTokenizer()\n",
    "    t1 = ' '.join(tknzr.tokenize(t1)).lower()\n",
    "    t2 = ' '.join(tknzr.tokenize(t2)).lower()\n",
    "    print(t1)\n",
    "    print(t2)\n",
    "#     emb = model.embed_sentence(\"once upon a time .\") \n",
    "    emb = model.embed_sentences([t1,t2])\n",
    "    print(emb.shape)\n",
    "    pearson = pearsonr(emb[0,:],emb[1,:])[0]\n",
    "    spearman = spearmanr(emb[0,:],emb[1,:])[0]\n",
    "    return pearson,spearman,(pearson + spearman)/2.0"
   ]
  },
  {
   "cell_type": "code",
   "execution_count": 10,
   "metadata": {},
   "outputs": [
    {
     "name": "stdout",
     "output_type": "stream",
     "text": [
      "ted cruz should be disqualified from his fraudulent win in iowa . weak rnc and republican leadership probably won't let this happen ! sad .\n",
      "ted cruz should be disqualified from his fraudulent win in iowa . weak rnc and republican leadership probably won't let this happen ! sad .\n",
      "(2, 600)\n",
      "(1.0, 0.9999999999999999, 1.0)\n",
      "ted cruz should be disqualified from his fraudulent win in iowa . weak rnc and republican leadership probably won't let this happen ! sad .\n",
      "ted cruz should be disqualified from his fraudulent win in iowa . weak rnc and republican leadership probably won't let this happen ! sad .\n",
      "(2, 700)\n",
      "(1.0, 0.9999999999999999, 1.0)\n",
      "ted cruz should be disqualified from his fraudulent win in iowa . weak rnc and republican leadership probably won't let this happen ! sad .\n",
      "ted cruz should be disqualified from his fraudulent win in iowa . weak rnc and republican leadership probably won't let this happen ! sad .\n",
      "(2, 700)\n",
      "(1.0, 0.9999999999999999, 1.0)\n",
      "ted cruz should be disqualified from his fraudulent win in iowa . weak rnc and republican leadership probably won't let this happen ! sad .\n",
      "ted cruz should be disqualified from his fraudulent win in iowa . weak rnc and republican leadership probably won't let this happen ! sad .\n",
      "(2, 700)\n",
      "(1.0, 0.9999999999999999, 1.0)\n",
      "ted cruz should be disqualified from his fraudulent win in iowa . weak rnc and republican leadership probably won't let this happen ! sad .\n",
      "ted cruz should be disqualified from his fraudulent win in iowa . weak rnc and republican leadership probably won't let this happen ! sad .\n",
      "(2, 700)\n",
      "(1.0, 0.9999999999999999, 1.0)\n",
      "ted cruz should be disqualified from his fraudulent win in iowa . weak rnc and republican leadership probably won't let this happen ! sad .\n",
      "ted cruz should be disqualified from his fraudulent win in iowa . weak rnc and republican leadership probably won't let this happen ! sad .\n",
      "(2, 700)\n",
      "(1.0, 0.9999999999999999, 1.0)\n",
      "ted cruz should be disqualified from his fraudulent win in iowa . weak rnc and republican leadership probably won't let this happen ! sad .\n",
      "ted cruz should be disqualified from his fraudulent win in iowa . weak rnc and republican leadership probably won't let this happen ! sad .\n",
      "(2, 700)\n",
      "(1.0, 0.9999999999999999, 1.0)\n"
     ]
    }
   ],
   "source": [
    "print(get_similarity(t1,t2,model_wi_1))\n",
    "print(get_similarity(t1,t2,model_wi_2))\n",
    "print(get_similarity(t1,t2,model_tw_1))\n",
    "print(get_similarity(t1,t2,model_tw_2))\n",
    "print(get_similarity(t1,t2,model_tb_1))\n",
    "print(get_similarity(t1,t2,model_tb_2))\n",
    "print(get_similarity(t1,t2,model_gb_2))"
   ]
  },
  {
   "cell_type": "code",
   "execution_count": null,
   "metadata": {
    "collapsed": true
   },
   "outputs": [],
   "source": []
  },
  {
   "cell_type": "code",
   "execution_count": null,
   "metadata": {
    "collapsed": true
   },
   "outputs": [],
   "source": []
  }
 ],
 "metadata": {
  "kernelspec": {
   "display_name": "Python 3",
   "language": "python",
   "name": "python3"
  },
  "language_info": {
   "codemirror_mode": {
    "name": "ipython",
    "version": 3
   },
   "file_extension": ".py",
   "mimetype": "text/x-python",
   "name": "python",
   "nbconvert_exporter": "python",
   "pygments_lexer": "ipython3",
   "version": "3.6.3"
  }
 },
 "nbformat": 4,
 "nbformat_minor": 2
}
