{
 "cells": [
  {
   "cell_type": "code",
   "execution_count": 1,
   "metadata": {},
   "outputs": [],
   "source": [
    "%load_ext autoreload\n",
    "%autoreload 2\n",
    "import sent2vec\n",
    "import numpy as np\n",
    "import random\n",
    "from sklearn.model_selection import GridSearchCV, cross_val_score\n",
    "from sklearn.preprocessing import StandardScaler\n",
    "from sklearn.linear_model import LogisticRegression\n",
    "from sklearn.metrics.pairwise import cosine_similarity as cos\n",
    "from scipy.stats import pearsonr, spearmanr\n",
    "from evaluation_experiments import sort_length_embedding_mr,nestedCV,conduct_lr,STS_eval,sort_length_embedding_sts\n",
    "from matplotlib import pyplot as plt"
   ]
  },
  {
   "cell_type": "code",
   "execution_count": 2,
   "metadata": {},
   "outputs": [],
   "source": [
    "# load sentence embedding model\n",
    "# model_path = '../models/'\n",
    "path  = '/longterm/kaijil/data/10715/'\n",
    "model_path = path + 'models/'\n",
    "data_path =  path + 'data/'\n",
    "\n",
    "# model_wi_1 = sent2vec.Sent2vecModel()\n",
    "# model_wi_1.load_model(model_path + 'wiki_unigrams.bin')\n",
    "model_wi_2 = sent2vec.Sent2vecModel()\n",
    "model_wi_2.load_model(model_path + 'wiki_bigrams.bin')\n",
    "# model_tw_1 = sent2vec.Sent2vecModel()\n",
    "# model_tw_1.load_model(model_path + 'twitter_unigrams.bin')\n",
    "model_tw_2 = sent2vec.Sent2vecModel()\n",
    "model_tw_2.load_model(model_path + 'twitter_bigrams.bin')\n",
    "# model_tb_1 = sent2vec.Sent2vecModel()\n",
    "# model_tb_1.load_model(model_path + 'torontobooks_unigrams.bin')\n",
    "model_tb_2 = sent2vec.Sent2vecModel()\n",
    "model_tb_2.load_model(model_path + 'torontobooks_bigrams.bin')"
   ]
  },
  {
   "cell_type": "code",
   "execution_count": 8,
   "metadata": {},
   "outputs": [],
   "source": [
    "models = [model_wi_2,model_tw_2,model_tb_2]\n",
    "# model_tw_2,model_tb_1,model_tb_2]"
   ]
  },
  {
   "cell_type": "markdown",
   "metadata": {
    "collapsed": true
   },
   "source": [
    "# Length Experiements"
   ]
  },
  {
   "cell_type": "markdown",
   "metadata": {},
   "source": [
    "## STS 2014"
   ]
  },
  {
   "cell_type": "code",
   "execution_count": 10,
   "metadata": {},
   "outputs": [
    {
     "name": "stdout",
     "output_type": "stream",
     "text": [
      "spearman correlation with gs: [0.7071182762866578, 0.7080307450168625, 0.5898901283044059, 0.32464410074695843]\n",
      "pearson correlation with gs: [0.7009455738808448, 0.7447547646913906, 0.7375991803183546, 0.39181501285943693]\n",
      "spearman correlation with gs: [0.6790752718593108, 0.7395508026227982, 0.6040739737411887, 0.30683668387766183]\n",
      "pearson correlation with gs: [0.6853452708273724, 0.7473780468429992, 0.745234092192687, 0.3882077875634481]\n",
      "spearman correlation with gs: [0.5815245462080884, 0.6456579004898675, 0.592213911328052, 0.26053429768005704]\n",
      "pearson correlation with gs: [0.5719643700954586, 0.6746323432417386, 0.7171830777703896, 0.33934098982531]\n",
      "(3, 4)\n"
     ]
    }
   ],
   "source": [
    "all_pearson = []\n",
    "all_spearman = []\n",
    "for model in models:\n",
    "    pearson_news, spearman_news = STS_eval('deft-news', model,data_path)\n",
    "    all_pearson.append(np.round(pearson_news,3))\n",
    "    all_spearman.append(np.round(spearman_news,3))\n",
    "    print('spearman correlation with gs:',  spearman_news)\n",
    "    print('pearson correlation with gs:', pearson_news)\n",
    "average = (np.array(all_pearson) + np.array(all_spearman)) / 2\n",
    "print(average.shape)"
   ]
  },
  {
   "cell_type": "code",
   "execution_count": 28,
   "metadata": {},
   "outputs": [
    {
     "data": {
      "image/png": "[encoded data removed]",
      "text/plain": [
       "<Figure size 720x576 with 1 Axes>"
      ]
     },
     "metadata": {},
     "output_type": "display_data"
    }
   ],
   "source": [
    " \n",
    "# data to plot\n",
    "n_groups = 4\n",
    "m1 = average[0,:]\n",
    "m2 = average[1,:]\n",
    "m3 = average[2,:]\n",
    " \n",
    "# create plot\n",
    "fig, ax = plt.subplots(figsize=(10,8))\n",
    "index = np.arange(n_groups)\n",
    "bar_width = 0.15\n",
    "opacity = 0.8\n",
    " \n",
    "rects1 = plt.bar(index, m1, bar_width,\n",
    "                 alpha=opacity,\n",
    "                 color='b',\n",
    "                 label='Wiki Bigram')\n",
    " \n",
    "rects2 = plt.bar(index + bar_width, m2, bar_width,\n",
    "                 alpha=opacity,\n",
    "                 color='g',\n",
    "                 label='Twitter Bigram')\n",
    "rects3 = plt.bar(index + bar_width*2, m3, bar_width,\n",
    "                 alpha=opacity,\n",
    "                 color='m',\n",
    "                 label='Toronto Books Bigram')\n",
    " \n",
    "plt.xlabel('Sentence Lengths')\n",
    "plt.ylabel('Average of Spearman/Pearson Scores')\n",
    "plt.title('Length vs. Performance of SE on STS Tasks')\n",
    "plt.xticks(index + bar_width, ('<=10', '<=20', '<=30', '>30'))\n",
    "plt.legend()\n",
    " \n",
    "plt.tight_layout()\n",
    "plt.show()"
   ]
  },
  {
   "cell_type": "markdown",
   "metadata": {},
   "source": [
    "## Movie Review"
   ]
  },
  {
   "cell_type": "code",
   "execution_count": 17,
   "metadata": {},
   "outputs": [],
   "source": [
    "# load movie reviews and preprocessing\n",
    "mr_file_neg = open(data_path + 'rt-polaritydata/rt-polarity.neg', encoding=\"latin-1\")\n",
    "mr_sent_neg = mr_file_neg.readlines()\n",
    "mr_file_neg.close()\n",
    "mr_file_pos = open(data_path + 'rt-polaritydata/rt-polarity.pos', encoding=\"latin-1\")\n",
    "mr_sent_pos = mr_file_pos.readlines()\n",
    "mr_file_pos.close()\n",
    "mr_sent_neg = np.array(mr_sent_neg)\n",
    "mr_sent_pos = np.array(mr_sent_pos)\n",
    "mr_y_neg = np.zeros_like(mr_sent_neg)\n",
    "for i in range(len(mr_y_neg)):\n",
    "    mr_y_neg[i] = 0\n",
    "mr_y_pos = np.ones_like(mr_sent_pos)\n",
    "mr_sent = np.concatenate((mr_sent_pos, mr_sent_neg))\n",
    "mr_y = np.concatenate((mr_y_pos, mr_y_neg))\n",
    "\n",
    "random.seed(2)\n",
    "random.shuffle(mr_sent)\n",
    "random.seed(2)\n",
    "random.shuffle(mr_y)"
   ]
  },
  {
   "cell_type": "code",
   "execution_count": 18,
   "metadata": {},
   "outputs": [
    {
     "ename": "NameError",
     "evalue": "name 'calculate_accuracy' is not defined",
     "output_type": "error",
     "traceback": [
      "\u001b[0;31m---------------------------------------------------------------------------\u001b[0m",
      "\u001b[0;31mNameError\u001b[0m                                 Traceback (most recent call last)",
      "\u001b[0;32m<ipython-input-18-62720b49fe47>\u001b[0m in \u001b[0;36m<module>\u001b[0;34m()\u001b[0m\n\u001b[1;32m      2\u001b[0m \u001b[0;32mfor\u001b[0m \u001b[0mmodel\u001b[0m \u001b[0;32min\u001b[0m \u001b[0mmodels\u001b[0m\u001b[0;34m:\u001b[0m\u001b[0;34m\u001b[0m\u001b[0m\n\u001b[1;32m      3\u001b[0m     \u001b[0msorted_mr_x\u001b[0m\u001b[0;34m,\u001b[0m \u001b[0msorted_mr_y\u001b[0m\u001b[0;34m,\u001b[0m \u001b[0mlengths\u001b[0m \u001b[0;34m=\u001b[0m \u001b[0msort_length_embedding_mr\u001b[0m\u001b[0;34m(\u001b[0m\u001b[0mmr_sent\u001b[0m\u001b[0;34m,\u001b[0m \u001b[0mmr_y\u001b[0m\u001b[0;34m,\u001b[0m \u001b[0mmodel\u001b[0m\u001b[0;34m)\u001b[0m\u001b[0;34m\u001b[0m\u001b[0m\n\u001b[0;32m----> 4\u001b[0;31m     \u001b[0maccuracies_all\u001b[0m\u001b[0;34m.\u001b[0m\u001b[0mappend\u001b[0m\u001b[0;34m(\u001b[0m\u001b[0mcalculate_accuracy\u001b[0m\u001b[0;34m(\u001b[0m\u001b[0msorted_mr_x\u001b[0m\u001b[0;34m,\u001b[0m \u001b[0msorted_mr_y\u001b[0m\u001b[0;34m,\u001b[0m \u001b[0mlengths\u001b[0m\u001b[0;34m)\u001b[0m\u001b[0;34m)\u001b[0m\u001b[0;34m\u001b[0m\u001b[0m\n\u001b[0m",
      "\u001b[0;31mNameError\u001b[0m: name 'calculate_accuracy' is not defined"
     ]
    }
   ],
   "source": []
  },
  {
   "cell_type": "code",
   "execution_count": 19,
   "metadata": {
    "scrolled": true
   },
   "outputs": [],
   "source": [
    "def calculate_accuracy(sorted_mr_x, sorted_mr_y, lengths):\n",
    "    len_sep = [10, 20, 30, 55]\n",
    "    indexes = []\n",
    "    for i in range(len(len_sep)):\n",
    "        indexes.append([])\n",
    "\n",
    "    for i in range(len(lengths)):\n",
    "        for pin in range(len(len_sep)):\n",
    "            if lengths[i] <= len_sep[pin]: \n",
    "                indexes[pin].append(i)\n",
    "                break\n",
    "\n",
    "    mr_xs = []\n",
    "    mr_ys = []\n",
    "\n",
    "    for i in range(len(indexes)):\n",
    "        print(len(indexes[i]))\n",
    "\n",
    "    for i in range(len(indexes)):\n",
    "        temp = np.random.choice(indexes[i], 900, replace=False)\n",
    "        mr_xs.append([sorted_mr_x[i] for i in temp])\n",
    "        mr_ys.append([sorted_mr_y[i] for i in temp])\n",
    "\n",
    "    accuracies = []\n",
    "    for i in range(len(mr_xs)):\n",
    "        accuracies.append(conduct_lr(mr_xs[i], mr_ys[i]))\n",
    "\n",
    "\n",
    "    return accuracies"
   ]
  },
  {
   "cell_type": "code",
   "execution_count": 20,
   "metadata": {},
   "outputs": [
    {
     "name": "stdout",
     "output_type": "stream",
     "text": [
      "2048\n",
      "4413\n",
      "3228\n",
      "973\n",
      "2048\n",
      "4413\n",
      "3228\n",
      "973\n",
      "2048\n",
      "4413\n",
      "3228\n",
      "973\n"
     ]
    }
   ],
   "source": [
    "accuracies_all = []\n",
    "for model in models:\n",
    "    sorted_mr_x, sorted_mr_y, lengths = sort_length_embedding_mr(mr_sent, mr_y, model)\n",
    "    accuracies_all.append(calculate_accuracy(sorted_mr_x, sorted_mr_y, lengths))"
   ]
  },
  {
   "cell_type": "code",
   "execution_count": 24,
   "metadata": {},
   "outputs": [
    {
     "name": "stdout",
     "output_type": "stream",
     "text": [
      "(3, 4)\n"
     ]
    }
   ],
   "source": [
    "accuracies_all = np.array(accuracies_all)\n",
    "print(accuracies_all.shape)"
   ]
  },
  {
   "cell_type": "code",
   "execution_count": 27,
   "metadata": {},
   "outputs": [
    {
     "data": {
      "image/png": "[encoded data removed]",
      "text/plain": [
       "<Figure size 720x576 with 1 Axes>"
      ]
     },
     "metadata": {},
     "output_type": "display_data"
    }
   ],
   "source": [
    " \n",
    "# data to plot\n",
    "n_groups = 4\n",
    "m1 = accuracies_all[0,:]\n",
    "m2 = accuracies_all[1,:]\n",
    "m3 = accuracies_all[2,:]\n",
    " \n",
    "# create plot\n",
    "fig, ax = plt.subplots(figsize=(10,8))\n",
    "index = np.arange(n_groups)\n",
    "bar_width = 0.15\n",
    "opacity = 0.8\n",
    " \n",
    "rects1 = plt.bar(index, m1, bar_width,\n",
    "                 alpha=opacity,\n",
    "                 color='b',\n",
    "                 label='Wiki Bigram')\n",
    " \n",
    "rects2 = plt.bar(index + bar_width, m2, bar_width,\n",
    "                 alpha=opacity,\n",
    "                 color='g',\n",
    "                 label='Twitter Bigram')\n",
    "rects3 = plt.bar(index + bar_width*2, m3, bar_width,\n",
    "                 alpha=opacity,\n",
    "                 color='m',\n",
    "                 label='Toronto Books Bigram')\n",
    " \n",
    "plt.xlabel('Sentence Lengths')\n",
    "plt.ylabel('Accuracy of Classification')\n",
    "plt.title('Length vs. Performance of SE on MR Tasks')\n",
    "plt.xticks(index + bar_width, ('<=10', '<=20', '<=30', '>30'))\n",
    "plt.legend()\n",
    " \n",
    "plt.tight_layout()\n",
    "plt.show()"
   ]
  },
  {
   "cell_type": "code",
   "execution_count": null,
   "metadata": {
    "collapsed": true
   },
   "outputs": [],
   "source": []
  }
 ],
 "metadata": {
  "kernelspec": {
   "display_name": "Python 3",
   "language": "python",
   "name": "python3"
  },
  "language_info": {
   "codemirror_mode": {
    "name": "ipython",
    "version": 3
   },
   "file_extension": ".py",
   "mimetype": "text/x-python",
   "name": "python",
   "nbconvert_exporter": "python",
   "pygments_lexer": "ipython3",
   "version": "3.6.3"
  }
 },
 "nbformat": 4,
 "nbformat_minor": 2
}
